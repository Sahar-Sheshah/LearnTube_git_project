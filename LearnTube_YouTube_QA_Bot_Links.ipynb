{
  "nbformat": 4,
  "nbformat_minor": 0,
  "metadata": {
    "colab": {
      "provenance": []
    },
    "kernelspec": {
      "name": "python3",
      "display_name": "Python 3"
    },
    "language_info": {
      "name": "python"
    }
  },
  "cells": [
    {
      "cell_type": "markdown",
      "source": [
        "##Presentation\n",
        "https://www.canva.com/design/DAGkfu1ukNA/aLeGAdN7b6ivmDMal0mJug/edit\n",
        "\n",
        "##Report\n",
        "https://www.canva.com/design/DAGmrhLajRI/LvsKUhk1EiFhS5ctVIXpZQ/edit"
      ],
      "metadata": {
        "id": "p2WBpvjgw5SY"
      }
    }
  ]
}